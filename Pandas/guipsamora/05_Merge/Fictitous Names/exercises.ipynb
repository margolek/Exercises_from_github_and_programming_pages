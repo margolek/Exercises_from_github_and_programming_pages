{
  "nbformat": 4,
  "nbformat_minor": 0,
  "metadata": {
    "kernelspec": {
      "display_name": "Python 2",
      "language": "python",
      "name": "python2"
    },
    "language_info": {
      "codemirror_mode": {
        "name": "ipython",
        "version": 2
      },
      "file_extension": ".py",
      "mimetype": "text/x-python",
      "name": "python",
      "nbconvert_exporter": "python",
      "pygments_lexer": "ipython2",
      "version": "2.7.11"
    },
    "colab": {
      "name": "exercises.ipynb",
      "provenance": [],
      "include_colab_link": true
    }
  },
  "cells": [
    {
      "cell_type": "markdown",
      "metadata": {
        "id": "view-in-github",
        "colab_type": "text"
      },
      "source": [
        "<a href=\"https://colab.research.google.com/github/margolek/Python_sorted_by_topics/blob/main/Pandas/guipsamora/05_Merge/Fictitous%20Names/exercises.ipynb\" target=\"_parent\"><img src=\"https://colab.research.google.com/assets/colab-badge.svg\" alt=\"Open In Colab\"/></a>"
      ]
    },
    {
      "cell_type": "markdown",
      "metadata": {
        "id": "C7qPHkyHtpf3"
      },
      "source": [
        "# Fictitious Names"
      ]
    },
    {
      "cell_type": "markdown",
      "metadata": {
        "id": "sfv12yK0tpf5"
      },
      "source": [
        "### Introduction:\n",
        "\n",
        "This time you will create a data again \n",
        "\n",
        "Special thanks to [Chris Albon](http://chrisalbon.com/) for sharing the dataset and materials.\n",
        "All the credits to this exercise belongs to him.  \n",
        "\n",
        "In order to understand about it go [here](https://blog.codinghorror.com/a-visual-explanation-of-sql-joins/).\n",
        "\n",
        "### Step 1. Import the necessary libraries"
      ]
    },
    {
      "cell_type": "code",
      "metadata": {
        "id": "nuzSiomrtpf6"
      },
      "source": [
        "import numpy as np\r\n",
        "import pandas as pd"
      ],
      "execution_count": 1,
      "outputs": []
    },
    {
      "cell_type": "markdown",
      "metadata": {
        "id": "B9ePfdaZtpf6"
      },
      "source": [
        "### Step 2. Create the 3 DataFrames based on the following raw data"
      ]
    },
    {
      "cell_type": "code",
      "metadata": {
        "collapsed": true,
        "id": "YwD-O_x7tpf7"
      },
      "source": [
        "raw_data_1 = {\n",
        "        'subject_id': ['1', '2', '3', '4', '5'],\n",
        "        'first_name': ['Alex', 'Amy', 'Allen', 'Alice', 'Ayoung'], \n",
        "        'last_name': ['Anderson', 'Ackerman', 'Ali', 'Aoni', 'Atiches']}\n",
        "\n",
        "raw_data_2 = {\n",
        "        'subject_id': ['4', '5', '6', '7', '8'],\n",
        "        'first_name': ['Billy', 'Brian', 'Bran', 'Bryce', 'Betty'], \n",
        "        'last_name': ['Bonder', 'Black', 'Balwner', 'Brice', 'Btisan']}\n",
        "\n",
        "raw_data_3 = {\n",
        "        'subject_id': ['1', '2', '3', '4', '5', '7', '8', '9', '10', '11'],\n",
        "        'test_id': [51, 15, 15, 61, 16, 14, 15, 1, 61, 16]}"
      ],
      "execution_count": 2,
      "outputs": []
    },
    {
      "cell_type": "markdown",
      "metadata": {
        "id": "NnnwAvbqtpf7"
      },
      "source": [
        "### Step 3. Assign each to a variable called data1, data2, data3"
      ]
    },
    {
      "cell_type": "code",
      "metadata": {
        "id": "9sxKqThrtpf7"
      },
      "source": [
        "data1 = pd.DataFrame(raw_data_1)\r\n",
        "data2 = pd.DataFrame(raw_data_2)\r\n",
        "data3 = pd.DataFrame(raw_data_3)"
      ],
      "execution_count": 3,
      "outputs": []
    },
    {
      "cell_type": "markdown",
      "metadata": {
        "id": "a_YQ3UFrtpf8"
      },
      "source": [
        "### Step 4. Join the two dataframes along rows and assign all_data"
      ]
    },
    {
      "cell_type": "code",
      "metadata": {
        "id": "_7vbXng7tpf8",
        "outputId": "7279188b-9d32-4c36-ffb3-53ca9dd8ca53",
        "colab": {
          "base_uri": "https://localhost:8080/",
          "height": 204
        }
      },
      "source": [
        "all_data = pd.concat([data1,data2],axis=0)\r\n",
        "all_data.head()"
      ],
      "execution_count": 8,
      "outputs": [
        {
          "output_type": "execute_result",
          "data": {
            "text/plain": [
              "  first_name last_name subject_id\n",
              "0       Alex  Anderson          1\n",
              "1        Amy  Ackerman          2\n",
              "2      Allen       Ali          3\n",
              "3      Alice      Aoni          4\n",
              "4     Ayoung   Atiches          5"
            ],
            "text/html": [
              "<div>\n",
              "<style scoped>\n",
              "    .dataframe tbody tr th:only-of-type {\n",
              "        vertical-align: middle;\n",
              "    }\n",
              "\n",
              "    .dataframe tbody tr th {\n",
              "        vertical-align: top;\n",
              "    }\n",
              "\n",
              "    .dataframe thead th {\n",
              "        text-align: right;\n",
              "    }\n",
              "</style>\n",
              "<table border=\"1\" class=\"dataframe\">\n",
              "  <thead>\n",
              "    <tr style=\"text-align: right;\">\n",
              "      <th></th>\n",
              "      <th>first_name</th>\n",
              "      <th>last_name</th>\n",
              "      <th>subject_id</th>\n",
              "    </tr>\n",
              "  </thead>\n",
              "  <tbody>\n",
              "    <tr>\n",
              "      <th>0</th>\n",
              "      <td>Alex</td>\n",
              "      <td>Anderson</td>\n",
              "      <td>1</td>\n",
              "    </tr>\n",
              "    <tr>\n",
              "      <th>1</th>\n",
              "      <td>Amy</td>\n",
              "      <td>Ackerman</td>\n",
              "      <td>2</td>\n",
              "    </tr>\n",
              "    <tr>\n",
              "      <th>2</th>\n",
              "      <td>Allen</td>\n",
              "      <td>Ali</td>\n",
              "      <td>3</td>\n",
              "    </tr>\n",
              "    <tr>\n",
              "      <th>3</th>\n",
              "      <td>Alice</td>\n",
              "      <td>Aoni</td>\n",
              "      <td>4</td>\n",
              "    </tr>\n",
              "    <tr>\n",
              "      <th>4</th>\n",
              "      <td>Ayoung</td>\n",
              "      <td>Atiches</td>\n",
              "      <td>5</td>\n",
              "    </tr>\n",
              "  </tbody>\n",
              "</table>\n",
              "</div>"
            ]
          },
          "metadata": {
            "tags": []
          },
          "execution_count": 8
        }
      ]
    },
    {
      "cell_type": "markdown",
      "metadata": {
        "id": "h9Jc_7rxtpf8"
      },
      "source": [
        "### Step 5. Join the two dataframes along columns and assing to all_data_col"
      ]
    },
    {
      "cell_type": "code",
      "metadata": {
        "id": "WCaiCd6Rtpf8"
      },
      "source": [
        "all_data_col = pd.concat([data1,data2],axis=1)"
      ],
      "execution_count": 9,
      "outputs": []
    },
    {
      "cell_type": "markdown",
      "metadata": {
        "id": "rK8vyabBtpf9"
      },
      "source": [
        "### Step 6. Print data3"
      ]
    },
    {
      "cell_type": "code",
      "metadata": {
        "id": "mvjF2Kqptpf9",
        "outputId": "cd84123e-7ec3-49f5-ef88-f3271341d51a",
        "colab": {
          "base_uri": "https://localhost:8080/",
          "height": 359
        }
      },
      "source": [
        "data3"
      ],
      "execution_count": 10,
      "outputs": [
        {
          "output_type": "execute_result",
          "data": {
            "text/plain": [
              "  subject_id  test_id\n",
              "0          1       51\n",
              "1          2       15\n",
              "2          3       15\n",
              "3          4       61\n",
              "4          5       16\n",
              "5          7       14\n",
              "6          8       15\n",
              "7          9        1\n",
              "8         10       61\n",
              "9         11       16"
            ],
            "text/html": [
              "<div>\n",
              "<style scoped>\n",
              "    .dataframe tbody tr th:only-of-type {\n",
              "        vertical-align: middle;\n",
              "    }\n",
              "\n",
              "    .dataframe tbody tr th {\n",
              "        vertical-align: top;\n",
              "    }\n",
              "\n",
              "    .dataframe thead th {\n",
              "        text-align: right;\n",
              "    }\n",
              "</style>\n",
              "<table border=\"1\" class=\"dataframe\">\n",
              "  <thead>\n",
              "    <tr style=\"text-align: right;\">\n",
              "      <th></th>\n",
              "      <th>subject_id</th>\n",
              "      <th>test_id</th>\n",
              "    </tr>\n",
              "  </thead>\n",
              "  <tbody>\n",
              "    <tr>\n",
              "      <th>0</th>\n",
              "      <td>1</td>\n",
              "      <td>51</td>\n",
              "    </tr>\n",
              "    <tr>\n",
              "      <th>1</th>\n",
              "      <td>2</td>\n",
              "      <td>15</td>\n",
              "    </tr>\n",
              "    <tr>\n",
              "      <th>2</th>\n",
              "      <td>3</td>\n",
              "      <td>15</td>\n",
              "    </tr>\n",
              "    <tr>\n",
              "      <th>3</th>\n",
              "      <td>4</td>\n",
              "      <td>61</td>\n",
              "    </tr>\n",
              "    <tr>\n",
              "      <th>4</th>\n",
              "      <td>5</td>\n",
              "      <td>16</td>\n",
              "    </tr>\n",
              "    <tr>\n",
              "      <th>5</th>\n",
              "      <td>7</td>\n",
              "      <td>14</td>\n",
              "    </tr>\n",
              "    <tr>\n",
              "      <th>6</th>\n",
              "      <td>8</td>\n",
              "      <td>15</td>\n",
              "    </tr>\n",
              "    <tr>\n",
              "      <th>7</th>\n",
              "      <td>9</td>\n",
              "      <td>1</td>\n",
              "    </tr>\n",
              "    <tr>\n",
              "      <th>8</th>\n",
              "      <td>10</td>\n",
              "      <td>61</td>\n",
              "    </tr>\n",
              "    <tr>\n",
              "      <th>9</th>\n",
              "      <td>11</td>\n",
              "      <td>16</td>\n",
              "    </tr>\n",
              "  </tbody>\n",
              "</table>\n",
              "</div>"
            ]
          },
          "metadata": {
            "tags": []
          },
          "execution_count": 10
        }
      ]
    },
    {
      "cell_type": "markdown",
      "metadata": {
        "id": "Me_k4yvwtpf9"
      },
      "source": [
        "### Step 7. Merge all_data and data3 along the subject_id value"
      ]
    },
    {
      "cell_type": "code",
      "metadata": {
        "id": "bU3-USrbtpf9",
        "outputId": "4775d31a-425a-4e16-ff02-879334589ebc",
        "colab": {
          "base_uri": "https://localhost:8080/",
          "height": 328
        }
      },
      "source": [
        "pd.merge(all_data,data3, on='subject_id')"
      ],
      "execution_count": 11,
      "outputs": [
        {
          "output_type": "execute_result",
          "data": {
            "text/plain": [
              "  first_name last_name subject_id  test_id\n",
              "0       Alex  Anderson          1       51\n",
              "1        Amy  Ackerman          2       15\n",
              "2      Allen       Ali          3       15\n",
              "3      Alice      Aoni          4       61\n",
              "4      Billy    Bonder          4       61\n",
              "5     Ayoung   Atiches          5       16\n",
              "6      Brian     Black          5       16\n",
              "7      Bryce     Brice          7       14\n",
              "8      Betty    Btisan          8       15"
            ],
            "text/html": [
              "<div>\n",
              "<style scoped>\n",
              "    .dataframe tbody tr th:only-of-type {\n",
              "        vertical-align: middle;\n",
              "    }\n",
              "\n",
              "    .dataframe tbody tr th {\n",
              "        vertical-align: top;\n",
              "    }\n",
              "\n",
              "    .dataframe thead th {\n",
              "        text-align: right;\n",
              "    }\n",
              "</style>\n",
              "<table border=\"1\" class=\"dataframe\">\n",
              "  <thead>\n",
              "    <tr style=\"text-align: right;\">\n",
              "      <th></th>\n",
              "      <th>first_name</th>\n",
              "      <th>last_name</th>\n",
              "      <th>subject_id</th>\n",
              "      <th>test_id</th>\n",
              "    </tr>\n",
              "  </thead>\n",
              "  <tbody>\n",
              "    <tr>\n",
              "      <th>0</th>\n",
              "      <td>Alex</td>\n",
              "      <td>Anderson</td>\n",
              "      <td>1</td>\n",
              "      <td>51</td>\n",
              "    </tr>\n",
              "    <tr>\n",
              "      <th>1</th>\n",
              "      <td>Amy</td>\n",
              "      <td>Ackerman</td>\n",
              "      <td>2</td>\n",
              "      <td>15</td>\n",
              "    </tr>\n",
              "    <tr>\n",
              "      <th>2</th>\n",
              "      <td>Allen</td>\n",
              "      <td>Ali</td>\n",
              "      <td>3</td>\n",
              "      <td>15</td>\n",
              "    </tr>\n",
              "    <tr>\n",
              "      <th>3</th>\n",
              "      <td>Alice</td>\n",
              "      <td>Aoni</td>\n",
              "      <td>4</td>\n",
              "      <td>61</td>\n",
              "    </tr>\n",
              "    <tr>\n",
              "      <th>4</th>\n",
              "      <td>Billy</td>\n",
              "      <td>Bonder</td>\n",
              "      <td>4</td>\n",
              "      <td>61</td>\n",
              "    </tr>\n",
              "    <tr>\n",
              "      <th>5</th>\n",
              "      <td>Ayoung</td>\n",
              "      <td>Atiches</td>\n",
              "      <td>5</td>\n",
              "      <td>16</td>\n",
              "    </tr>\n",
              "    <tr>\n",
              "      <th>6</th>\n",
              "      <td>Brian</td>\n",
              "      <td>Black</td>\n",
              "      <td>5</td>\n",
              "      <td>16</td>\n",
              "    </tr>\n",
              "    <tr>\n",
              "      <th>7</th>\n",
              "      <td>Bryce</td>\n",
              "      <td>Brice</td>\n",
              "      <td>7</td>\n",
              "      <td>14</td>\n",
              "    </tr>\n",
              "    <tr>\n",
              "      <th>8</th>\n",
              "      <td>Betty</td>\n",
              "      <td>Btisan</td>\n",
              "      <td>8</td>\n",
              "      <td>15</td>\n",
              "    </tr>\n",
              "  </tbody>\n",
              "</table>\n",
              "</div>"
            ]
          },
          "metadata": {
            "tags": []
          },
          "execution_count": 11
        }
      ]
    },
    {
      "cell_type": "markdown",
      "metadata": {
        "id": "bKORNsGttpf9"
      },
      "source": [
        "### Step 8. Merge only the data that has the same 'subject_id' on both data1 and data2"
      ]
    },
    {
      "cell_type": "code",
      "metadata": {
        "id": "CEU9Aii3tpf-",
        "outputId": "951bcc86-6ca5-43b9-f3d5-5f41580bc1a4",
        "colab": {
          "base_uri": "https://localhost:8080/",
          "height": 111
        }
      },
      "source": [
        "pd.merge(data1,data2,on='subject_id',how='inner')"
      ],
      "execution_count": 13,
      "outputs": [
        {
          "output_type": "execute_result",
          "data": {
            "text/plain": [
              "  first_name_x last_name_x subject_id first_name_y last_name_y\n",
              "0        Alice        Aoni          4        Billy      Bonder\n",
              "1       Ayoung     Atiches          5        Brian       Black"
            ],
            "text/html": [
              "<div>\n",
              "<style scoped>\n",
              "    .dataframe tbody tr th:only-of-type {\n",
              "        vertical-align: middle;\n",
              "    }\n",
              "\n",
              "    .dataframe tbody tr th {\n",
              "        vertical-align: top;\n",
              "    }\n",
              "\n",
              "    .dataframe thead th {\n",
              "        text-align: right;\n",
              "    }\n",
              "</style>\n",
              "<table border=\"1\" class=\"dataframe\">\n",
              "  <thead>\n",
              "    <tr style=\"text-align: right;\">\n",
              "      <th></th>\n",
              "      <th>first_name_x</th>\n",
              "      <th>last_name_x</th>\n",
              "      <th>subject_id</th>\n",
              "      <th>first_name_y</th>\n",
              "      <th>last_name_y</th>\n",
              "    </tr>\n",
              "  </thead>\n",
              "  <tbody>\n",
              "    <tr>\n",
              "      <th>0</th>\n",
              "      <td>Alice</td>\n",
              "      <td>Aoni</td>\n",
              "      <td>4</td>\n",
              "      <td>Billy</td>\n",
              "      <td>Bonder</td>\n",
              "    </tr>\n",
              "    <tr>\n",
              "      <th>1</th>\n",
              "      <td>Ayoung</td>\n",
              "      <td>Atiches</td>\n",
              "      <td>5</td>\n",
              "      <td>Brian</td>\n",
              "      <td>Black</td>\n",
              "    </tr>\n",
              "  </tbody>\n",
              "</table>\n",
              "</div>"
            ]
          },
          "metadata": {
            "tags": []
          },
          "execution_count": 13
        }
      ]
    },
    {
      "cell_type": "markdown",
      "metadata": {
        "id": "r-ciiH_ktpf-"
      },
      "source": [
        "### Step 9. Merge all values in data1 and data2, with matching records from both sides where available."
      ]
    },
    {
      "cell_type": "code",
      "metadata": {
        "id": "V7mXpOxZtpf-",
        "outputId": "de9cd2f6-438a-48d6-cc03-577fe5812df3",
        "colab": {
          "base_uri": "https://localhost:8080/",
          "height": 297
        }
      },
      "source": [
        "pd.merge(data1,data2,on='subject_id',how='outer')"
      ],
      "execution_count": 14,
      "outputs": [
        {
          "output_type": "execute_result",
          "data": {
            "text/plain": [
              "  first_name_x last_name_x subject_id first_name_y last_name_y\n",
              "0         Alex    Anderson          1          NaN         NaN\n",
              "1          Amy    Ackerman          2          NaN         NaN\n",
              "2        Allen         Ali          3          NaN         NaN\n",
              "3        Alice        Aoni          4        Billy      Bonder\n",
              "4       Ayoung     Atiches          5        Brian       Black\n",
              "5          NaN         NaN          6         Bran     Balwner\n",
              "6          NaN         NaN          7        Bryce       Brice\n",
              "7          NaN         NaN          8        Betty      Btisan"
            ],
            "text/html": [
              "<div>\n",
              "<style scoped>\n",
              "    .dataframe tbody tr th:only-of-type {\n",
              "        vertical-align: middle;\n",
              "    }\n",
              "\n",
              "    .dataframe tbody tr th {\n",
              "        vertical-align: top;\n",
              "    }\n",
              "\n",
              "    .dataframe thead th {\n",
              "        text-align: right;\n",
              "    }\n",
              "</style>\n",
              "<table border=\"1\" class=\"dataframe\">\n",
              "  <thead>\n",
              "    <tr style=\"text-align: right;\">\n",
              "      <th></th>\n",
              "      <th>first_name_x</th>\n",
              "      <th>last_name_x</th>\n",
              "      <th>subject_id</th>\n",
              "      <th>first_name_y</th>\n",
              "      <th>last_name_y</th>\n",
              "    </tr>\n",
              "  </thead>\n",
              "  <tbody>\n",
              "    <tr>\n",
              "      <th>0</th>\n",
              "      <td>Alex</td>\n",
              "      <td>Anderson</td>\n",
              "      <td>1</td>\n",
              "      <td>NaN</td>\n",
              "      <td>NaN</td>\n",
              "    </tr>\n",
              "    <tr>\n",
              "      <th>1</th>\n",
              "      <td>Amy</td>\n",
              "      <td>Ackerman</td>\n",
              "      <td>2</td>\n",
              "      <td>NaN</td>\n",
              "      <td>NaN</td>\n",
              "    </tr>\n",
              "    <tr>\n",
              "      <th>2</th>\n",
              "      <td>Allen</td>\n",
              "      <td>Ali</td>\n",
              "      <td>3</td>\n",
              "      <td>NaN</td>\n",
              "      <td>NaN</td>\n",
              "    </tr>\n",
              "    <tr>\n",
              "      <th>3</th>\n",
              "      <td>Alice</td>\n",
              "      <td>Aoni</td>\n",
              "      <td>4</td>\n",
              "      <td>Billy</td>\n",
              "      <td>Bonder</td>\n",
              "    </tr>\n",
              "    <tr>\n",
              "      <th>4</th>\n",
              "      <td>Ayoung</td>\n",
              "      <td>Atiches</td>\n",
              "      <td>5</td>\n",
              "      <td>Brian</td>\n",
              "      <td>Black</td>\n",
              "    </tr>\n",
              "    <tr>\n",
              "      <th>5</th>\n",
              "      <td>NaN</td>\n",
              "      <td>NaN</td>\n",
              "      <td>6</td>\n",
              "      <td>Bran</td>\n",
              "      <td>Balwner</td>\n",
              "    </tr>\n",
              "    <tr>\n",
              "      <th>6</th>\n",
              "      <td>NaN</td>\n",
              "      <td>NaN</td>\n",
              "      <td>7</td>\n",
              "      <td>Bryce</td>\n",
              "      <td>Brice</td>\n",
              "    </tr>\n",
              "    <tr>\n",
              "      <th>7</th>\n",
              "      <td>NaN</td>\n",
              "      <td>NaN</td>\n",
              "      <td>8</td>\n",
              "      <td>Betty</td>\n",
              "      <td>Btisan</td>\n",
              "    </tr>\n",
              "  </tbody>\n",
              "</table>\n",
              "</div>"
            ]
          },
          "metadata": {
            "tags": []
          },
          "execution_count": 14
        }
      ]
    }
  ]
}